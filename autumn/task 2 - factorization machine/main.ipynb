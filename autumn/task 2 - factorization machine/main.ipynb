{
 "cells": [
  {
   "cell_type": "markdown",
   "metadata": {},
   "source": [
    "## Факторизационная машина второго порядка"
   ]
  },
  {
   "cell_type": "code",
   "execution_count": 7,
   "metadata": {},
   "outputs": [],
   "source": [
    "import numpy as np\n",
    "import time\n",
    "from scipy.sparse import *\n",
    "from sklearn.externals import joblib\n",
    "import pandas as pd"
   ]
  },
  {
   "cell_type": "code",
   "execution_count": 3,
   "metadata": {},
   "outputs": [],
   "source": [
    "def RMSE(y_pred, y_true):\n",
    "    n = len(y_true)\n",
    "    loss = np.subtract(y_true, y_pred)\n",
    "    return np.sqrt(np.sum((loss)**2) / n)\n",
    "\n",
    "def R_2(y_pred, y_true):\n",
    "    loss = np.subtract(y_true, y_pred)\n",
    "    return 1 - np.sum((loss)**2) / np.sum((y_true - np.mean(y_true))**2) \n",
    "\n",
    "class FactorizationMachine(object):\n",
    "    def __init__(self, step=0.000001, k=5):\n",
    "        self.k = k\n",
    "        self.w0 = 0\n",
    "        self.W = None #d,1\n",
    "        self.V = None #d,k\n",
    "        self.Z = None\n",
    "        self.X2 = None\n",
    "        self.initStep = step\n",
    "        self.step = self.initStep\n",
    "        self.loss_history = []\n",
    "\n",
    "    def predict(self, X):\n",
    "        self.Z = X @ self.V #n,k\n",
    "        if issparse(X):\n",
    "            self.X2 = X.power(2)\n",
    "        else:\n",
    "            self.X2 = X**2\n",
    "        return self.w0 + X @ self.W + np.sum(self.Z**2 - (self.X2 @ self.V**2), axis=1, keepdims=True) / 2\n",
    "\n",
    "    def get_batches(self, dataset, batch_size):\n",
    "        X, Y = dataset\n",
    "        n_samples = X.shape[0]\n",
    "\n",
    "        # Shuffle at the start of epoch\n",
    "        indices = np.arange(n_samples)\n",
    "        np.random.shuffle(indices)\n",
    "\n",
    "        for start in range(0, n_samples, batch_size):\n",
    "            end = min(start + batch_size, n_samples)\n",
    "            batch_idx = indices[start:end]\n",
    "\n",
    "            yield X[batch_idx], Y[batch_idx]\n",
    "\n",
    "    def addLoss(self, predictions, y_true):\n",
    "        self.loss_history.append(RMSE(predictions.reshape(-1), y_true))\n",
    "\n",
    "    def updatedtLearningRate(self, epoch):\n",
    "        #magicConst = 200\n",
    "        #self.step = self.initStep / np.log(np.log(np.log(epoch + magicConst)))\n",
    "        self.step = self.initStep / np.sqrt(epoch + 1)\n",
    "        \n",
    "\n",
    "    def fit(self, X, y, n_epoch=30, batch_size=128):\n",
    "        n, d = X.shape\n",
    "\n",
    "        # This is a nice initialization\n",
    "        stdv = 1. / np.sqrt(n)\n",
    "        self.W = np.random.uniform(-stdv, stdv, size=(d, 1))\n",
    "        self.V = np.random.uniform(-stdv, stdv, size=(d, self.k))\n",
    "    \n",
    "        for i in range(n_epoch):\n",
    "            for x_batch, y_batch in self.get_batches((X, y), batch_size):\n",
    "                self.updatedtLearningRate(i)\n",
    "                predictions = self.predict(x_batch)\n",
    "                dLoss = 2 * np.subtract(predictions, y_batch.reshape(-1, 1)) / len(y_batch)\n",
    "\n",
    "                self.w0 -= np.multiply(self.step, np.sum(dLoss))\n",
    "                \n",
    "                self.W -= np.multiply(self.step, x_batch.transpose() @ dLoss)\n",
    "\n",
    "                np.multiply(self.step, dLoss, out=dLoss)\n",
    "                for j in range(self.k):\n",
    "                    if issparse(x_batch):\n",
    "                        dV = x_batch.multiply(self.Z[:, j].reshape(-1, 1))\n",
    "                        dV -= self.X2.multiply(self.V[:, j])\n",
    "                    else:\n",
    "                        dV = np.multiply(x_batch, self.Z[:, j].reshape(-1, 1))\n",
    "                        np.subtract(dV, np.multiply(self.X2, self.V[:, j]), out=dV)\n",
    "                    self.V[:,j] -= dLoss.reshape(-1) @ dV\n",
    "                    \n",
    "            self.addLoss(predictions, y_batch)\n",
    "        return self.loss_history"
   ]
  },
  {
   "cell_type": "markdown",
   "metadata": {},
   "source": [
    "## Тестирование на синтетических данных"
   ]
  },
  {
   "cell_type": "code",
   "execution_count": 4,
   "metadata": {},
   "outputs": [],
   "source": [
    "from sklearn.externals import joblib\n",
    "X_t2 = joblib.load('X.bin')\n",
    "y_t2 = joblib.load('y.bin')"
   ]
  },
  {
   "cell_type": "markdown",
   "metadata": {},
   "source": [
    "<b>Parameters:</b> скорость обучения log"
   ]
  },
  {
   "cell_type": "code",
   "execution_count": 475,
   "metadata": {},
   "outputs": [
    {
     "name": "stdout",
     "output_type": "stream",
     "text": [
      "loss_history [0.639181729560903, 0.7192722521497317, 0.6214670865891395, 0.5448647235097059, 0.8620369373732033, 0.8978984266486023, 0.7812319952096726, 0.5801703746665489, 0.5789855014009749, 0.9489588462589356]\n",
      "shape (10000, 7) (10000, 1)\n"
     ]
    }
   ],
   "source": [
    "fm = FactorizationMachine(step=0.000003, k=8)\n",
    "loss_history = fm.fit(X_t2, y_t2, n_epoch=300, batch_size=256)\n",
    "print('loss_history', loss_history[-10:])\n",
    "print('shape', X_t2.shape, y_t2.shape)\n",
    "pr = fm.predict(X_t2)"
   ]
  },
  {
   "cell_type": "code",
   "execution_count": 423,
   "metadata": {},
   "outputs": [
    {
     "name": "stderr",
     "output_type": "stream",
     "text": [
      "/usr/local/lib/python3.6/dist-packages/sklearn/linear_model/stochastic_gradient.py:183: FutureWarning: max_iter and tol parameters have been added in SGDRegressor in 0.19. If max_iter is set but tol is left unset, the default value for tol in 0.19 and 0.20 will be None (which is equivalent to -infinity, so it has no effect) but will change in 0.21 to 1e-3. Specify tol to silence this warning.\n",
      "  FutureWarning)\n",
      "/usr/local/lib/python3.6/dist-packages/sklearn/utils/validation.py:761: DataConversionWarning: A column-vector y was passed when a 1d array was expected. Please change the shape of y to (n_samples, ), for example using ravel().\n",
      "  y = column_or_1d(y, warn=True)\n"
     ]
    }
   ],
   "source": [
    "reg = SGDRegressor(fit_intercept=True, penalty='none', shuffle=False, eta0=0.001, max_iter=100)\n",
    "reg.fit(X_t2, y_t2)\n",
    "prLR = reg.predict(X_t2)\n"
   ]
  },
  {
   "cell_type": "code",
   "execution_count": 452,
   "metadata": {},
   "outputs": [
    {
     "data": {
      "text/plain": [
       "array([[ -7.84309394],\n",
       "       [-12.77575163],\n",
       "       [ 87.7635759 ],\n",
       "       ...,\n",
       "       [-73.02295607],\n",
       "       [ 55.44797985],\n",
       "       [-64.43883501]])"
      ]
     },
     "execution_count": 452,
     "metadata": {},
     "output_type": "execute_result"
    }
   ],
   "source": [
    "pr"
   ]
  },
  {
   "cell_type": "code",
   "execution_count": 424,
   "metadata": {},
   "outputs": [
    {
     "data": {
      "text/plain": [
       "array([ -7.82540695, -12.74182483,  87.74340881, ..., -73.05613334,\n",
       "        55.46920415, -64.30510889])"
      ]
     },
     "execution_count": 424,
     "metadata": {},
     "output_type": "execute_result"
    }
   ],
   "source": [
    "prLR"
   ]
  },
  {
   "cell_type": "code",
   "execution_count": 420,
   "metadata": {},
   "outputs": [
    {
     "data": {
      "text/plain": [
       "array([[ -7.82540687],\n",
       "       [-12.74182486],\n",
       "       [ 87.74340893],\n",
       "       ...,\n",
       "       [-73.05613324],\n",
       "       [ 55.4692042 ],\n",
       "       [-64.30510887]])"
      ]
     },
     "execution_count": 420,
     "metadata": {},
     "output_type": "execute_result"
    }
   ],
   "source": [
    "y_t2"
   ]
  },
  {
   "cell_type": "markdown",
   "metadata": {},
   "source": [
    "## Тестирование на миниданных"
   ]
  },
  {
   "cell_type": "markdown",
   "metadata": {},
   "source": [
    "### Подготовка small dataset"
   ]
  },
  {
   "cell_type": "code",
   "execution_count": 5,
   "metadata": {},
   "outputs": [],
   "source": [
    "import pandas as pd"
   ]
  },
  {
   "cell_type": "code",
   "execution_count": 4,
   "metadata": {},
   "outputs": [],
   "source": [
    "df = pd.read_csv('dataset-small-ratings.csv')\n",
    "df = df[['userId', 'movieId', 'rating']]"
   ]
  },
  {
   "cell_type": "code",
   "execution_count": 5,
   "metadata": {},
   "outputs": [
    {
     "data": {
      "text/html": [
       "<div>\n",
       "<style scoped>\n",
       "    .dataframe tbody tr th:only-of-type {\n",
       "        vertical-align: middle;\n",
       "    }\n",
       "\n",
       "    .dataframe tbody tr th {\n",
       "        vertical-align: top;\n",
       "    }\n",
       "\n",
       "    .dataframe thead th {\n",
       "        text-align: right;\n",
       "    }\n",
       "</style>\n",
       "<table border=\"1\" class=\"dataframe\">\n",
       "  <thead>\n",
       "    <tr style=\"text-align: right;\">\n",
       "      <th></th>\n",
       "      <th>userId</th>\n",
       "      <th>movieId</th>\n",
       "      <th>rating</th>\n",
       "    </tr>\n",
       "  </thead>\n",
       "  <tbody>\n",
       "    <tr>\n",
       "      <th>0</th>\n",
       "      <td>1</td>\n",
       "      <td>1</td>\n",
       "      <td>4.0</td>\n",
       "    </tr>\n",
       "    <tr>\n",
       "      <th>1</th>\n",
       "      <td>1</td>\n",
       "      <td>3</td>\n",
       "      <td>4.0</td>\n",
       "    </tr>\n",
       "    <tr>\n",
       "      <th>2</th>\n",
       "      <td>1</td>\n",
       "      <td>6</td>\n",
       "      <td>4.0</td>\n",
       "    </tr>\n",
       "    <tr>\n",
       "      <th>3</th>\n",
       "      <td>1</td>\n",
       "      <td>47</td>\n",
       "      <td>5.0</td>\n",
       "    </tr>\n",
       "    <tr>\n",
       "      <th>4</th>\n",
       "      <td>1</td>\n",
       "      <td>50</td>\n",
       "      <td>5.0</td>\n",
       "    </tr>\n",
       "  </tbody>\n",
       "</table>\n",
       "</div>"
      ],
      "text/plain": [
       "   userId  movieId  rating\n",
       "0       1        1     4.0\n",
       "1       1        3     4.0\n",
       "2       1        6     4.0\n",
       "3       1       47     5.0\n",
       "4       1       50     5.0"
      ]
     },
     "execution_count": 5,
     "metadata": {},
     "output_type": "execute_result"
    }
   ],
   "source": [
    "df[0:5]"
   ]
  },
  {
   "cell_type": "code",
   "execution_count": 5,
   "metadata": {},
   "outputs": [
    {
     "data": {
      "text/plain": [
       "array([4., 4., 4., ..., 5., 5., 3.])"
      ]
     },
     "execution_count": 5,
     "metadata": {},
     "output_type": "execute_result"
    }
   ],
   "source": [
    "y = df['rating'].values\n",
    "y"
   ]
  },
  {
   "cell_type": "code",
   "execution_count": 6,
   "metadata": {
    "scrolled": true
   },
   "outputs": [
    {
     "data": {
      "text/plain": [
       "array([[     1,      1],\n",
       "       [     1,      3],\n",
       "       [     1,      6],\n",
       "       ...,\n",
       "       [   610, 168250],\n",
       "       [   610, 168252],\n",
       "       [   610, 170875]])"
      ]
     },
     "execution_count": 6,
     "metadata": {},
     "output_type": "execute_result"
    }
   ],
   "source": [
    "X = df[['userId', 'movieId']].values\n",
    "X"
   ]
  },
  {
   "cell_type": "code",
   "execution_count": 7,
   "metadata": {},
   "outputs": [
    {
     "name": "stdout",
     "output_type": "stream",
     "text": [
      "(100836, 10334)\n"
     ]
    },
    {
     "name": "stderr",
     "output_type": "stream",
     "text": [
      "/usr/local/lib/python3.6/dist-packages/sklearn/preprocessing/_encoders.py:368: FutureWarning: The handling of integer data will change in version 0.22. Currently, the categories are determined based on the range [0, max(values)], while in the future they will be determined based on the unique values.\n",
      "If you want the future behaviour and silence this warning, you can specify \"categories='auto'\".\n",
      "In case you used a LabelEncoder before this OneHotEncoder to convert the categories to integers, then you can now use the OneHotEncoder directly.\n",
      "  warnings.warn(msg, FutureWarning)\n"
     ]
    }
   ],
   "source": [
    "from sklearn.preprocessing import OneHotEncoder\n",
    "\n",
    "onehot_encoder = OneHotEncoder(sparse=True)\n",
    "x = onehot_encoder.fit_transform(X)\n",
    "print(x.shape)"
   ]
  },
  {
   "cell_type": "code",
   "execution_count": 19,
   "metadata": {},
   "outputs": [
    {
     "data": {
      "text/plain": [
       "['small_x.bin']"
      ]
     },
     "execution_count": 19,
     "metadata": {},
     "output_type": "execute_result"
    }
   ],
   "source": [
    "from sklearn.externals import joblib\n",
    "joblib.dump(x, 'small_x.bin')"
   ]
  },
  {
   "cell_type": "code",
   "execution_count": 46,
   "metadata": {},
   "outputs": [
    {
     "data": {
      "text/plain": [
       "['small_y.bin']"
      ]
     },
     "execution_count": 46,
     "metadata": {},
     "output_type": "execute_result"
    }
   ],
   "source": [
    "joblib.dump(y, 'small_y.bin')"
   ]
  },
  {
   "cell_type": "markdown",
   "metadata": {},
   "source": [
    "### Загрузка минидатасета "
   ]
  },
  {
   "cell_type": "code",
   "execution_count": 140,
   "metadata": {},
   "outputs": [],
   "source": [
    "x = joblib.load('small_x.bin')\n",
    "type(x), x.shape\n",
    "y = joblib.load('small_y.bin')"
   ]
  },
  {
   "cell_type": "markdown",
   "metadata": {},
   "source": [
    "### Обучение с целью подборки параметров обучения\n",
    "<b>Parameters:</b> coeff learing rate = 0.1, dims factors - k = 2"
   ]
  },
  {
   "cell_type": "code",
   "execution_count": 37,
   "metadata": {},
   "outputs": [
    {
     "name": "stdout",
     "output_type": "stream",
     "text": [
      "loss_histoy [16.359718842662826, 16.626196059992314, 17.081824947956537, 18.284834311170105, 16.858090113179916, 17.441897588369407, 16.390528805052373, 16.418083632953966, 16.540941083792298, 16.97579980816147, 17.768894742882043, 17.377312549649254, 17.852421882982956, 18.239388220328816, 16.694025699997546, 17.19496358324938, 16.20112388578001, 18.455525799727628, 17.55934340056728, 17.909277280429222, 18.50537854558733, 17.11412139830555, 16.127202195976462, 17.644472210432124, 17.907725360617018, 18.641666662537503, 16.878470699844875, 17.941989423635622, 18.064980509697307, 17.30988333879418, 18.410853077117565, 17.74351792862676, 17.655421766396348, 17.83286645107326, 18.374447302155637, 17.607731536490565, 19.297023420142402, 18.307181219380897, 17.37963252406058, 17.879633055811365, 18.250388021810032, 18.039150476850033, 18.320667125252463, 18.227029750983167, 17.97760128546723, 16.38717379603662, 17.343540794856892, 17.12448002511052, 18.01019310894371, 18.325871256641257, 17.021688824695318, 17.35629400807775, 17.78860072771998, 18.194653957687226, 17.9273261137117, 18.133244927896442, 20.518956665751887, 17.124819725317693, 17.754300965805093, 17.681390797796254, 16.67876512898863, 17.455141228913348, 17.947724191924234, 16.560352247022323, 18.324902625597133, 17.60858914733008, 18.46015288027739, 19.702968575572008, 16.99454179195607, 18.484601377802583, 17.716241630645275, 17.66426220172396, 19.412064876837928, 17.185323386213497, 18.59301931943573, 19.15199968901456, 17.25539419493318, 16.962018696410766, 17.923860426746337, 17.069115931006884, 17.211543228318764, 17.568858027582216, 19.31237207509126, 17.86685870428151, 17.29845037747008, 18.150455168085056, 20.066304030015626, 17.835566065541308, 17.423852705028263, 17.554632541658105, 17.803287551741334, 18.52206582971514, 17.718363079619962, 16.82689758915651, 19.39454561291768, 17.47022883251982, 18.01626248868657, 18.56531046948042, 18.164563887894886, 18.00276815011138]\n"
     ]
    }
   ],
   "source": [
    "fm_model = FactorizationMachine(step=0.1, k=2) #0.1\n",
    "loss_history = fm_model.fit(x, y, n_epoch=100, batch_size=256)\n",
    "print('loss_histoy', loss_history)\n",
    "prRating = fm_model.predict(x)"
   ]
  },
  {
   "cell_type": "code",
   "execution_count": 36,
   "metadata": {},
   "outputs": [
    {
     "data": {
      "text/plain": [
       "((100836, 1), (100836,), array([[4.65006635],\n",
       "        [4.07197704],\n",
       "        [4.67408587],\n",
       "        [4.73883132],\n",
       "        [4.9876469 ]]), array([[3.61905183],\n",
       "        [3.76522243],\n",
       "        [3.6881375 ],\n",
       "        [3.99411645],\n",
       "        [3.53720915]]))"
      ]
     },
     "execution_count": 36,
     "metadata": {},
     "output_type": "execute_result"
    }
   ],
   "source": [
    "prRating.shape,y.shape, prRating[:5], prRating[-5:]"
   ]
  },
  {
   "cell_type": "code",
   "execution_count": 20,
   "metadata": {},
   "outputs": [
    {
     "data": {
      "text/plain": [
       "(array([4., 4., 4., 5., 5.]), array([4., 5., 5., 5., 3.]))"
      ]
     },
     "execution_count": 20,
     "metadata": {},
     "output_type": "execute_result"
    }
   ],
   "source": [
    "y[:5], y[-5:],"
   ]
  },
  {
   "cell_type": "code",
   "execution_count": 39,
   "metadata": {},
   "outputs": [
    {
     "data": {
      "text/plain": [
       "0.8155666332048287"
      ]
     },
     "execution_count": 39,
     "metadata": {},
     "output_type": "execute_result"
    }
   ],
   "source": [
    "score = RMSE(prRating.reshape(-1), y)\n",
    "score"
   ]
  },
  {
   "cell_type": "code",
   "execution_count": 38,
   "metadata": {
    "scrolled": true
   },
   "outputs": [
    {
     "data": {
      "text/plain": [
       "0.3880066296442618"
      ]
     },
     "execution_count": 38,
     "metadata": {},
     "output_type": "execute_result"
    }
   ],
   "source": [
    "score_R2 = R_2(prRating.reshape(-1), y)\n",
    "score_R2"
   ]
  },
  {
   "cell_type": "markdown",
   "metadata": {},
   "source": [
    "### Кроссвалидация\n",
    "<b>Dataset:</b> Small dataset\n",
    "\n",
    "<b> С параметрами: </b> \n",
    "coef learing rate = 0.007, n_epoch = 20, k = 4, func learing rate - \"log\", batch_size = 256"
   ]
  },
  {
   "cell_type": "code",
   "execution_count": 41,
   "metadata": {
    "scrolled": true
   },
   "outputs": [
    {
     "name": "stdout",
     "output_type": "stream",
     "text": [
      "KFold(n_splits=3, random_state=None, shuffle=False)\n",
      "fold: 1\n",
      "fold: 2\n",
      "fold: 3\n"
     ]
    }
   ],
   "source": [
    "from sklearn.model_selection import KFold #\n",
    "kf = KFold(n_splits=3) # Define the split - into 3 folds \n",
    "kf.get_n_splits(x) # returns the number of splitting iterations in the cross-validator\n",
    "RMSE_history_tr = []\n",
    "R_2_history_tr = []\n",
    "RMSE_history_ts = []\n",
    "R_2_history_ts = []\n",
    "\n",
    "print(kf)\n",
    "counter = 0\n",
    "for train_index, test_index in kf.split(x):\n",
    "    counter += 1\n",
    "    print('fold:', counter)\n",
    "    X_train, X_test = x[train_index], x[test_index]\n",
    "    y_train, y_test = y[train_index], y[test_index]\n",
    "    \n",
    "    fm_mdl = FactorizationMachine(step=0.007, k=4)\n",
    "    fm_mdl.fit(x, y, n_epoch=20, batch_size=256)\n",
    "\n",
    "    predictions_test = fm_mdl.predict(X_train).reshape(-1)\n",
    "    RMSE_history_tr.append(RMSE(predictions_test, y_train))\n",
    "    R_2_history_tr.append(R_2(predictions_test, y_train))\n",
    "    \n",
    "    predictions_test = fm_mdl.predict(X_test).reshape(-1)\n",
    "    RMSE_history_ts.append(RMSE(predictions_test, y_test))\n",
    "    R_2_history_ts.append(R_2(predictions_test, y_test))"
   ]
  },
  {
   "cell_type": "code",
   "execution_count": 46,
   "metadata": {},
   "outputs": [
    {
     "data": {
      "text/html": [
       "<div>\n",
       "<style scoped>\n",
       "    .dataframe tbody tr th:only-of-type {\n",
       "        vertical-align: middle;\n",
       "    }\n",
       "\n",
       "    .dataframe tbody tr th {\n",
       "        vertical-align: top;\n",
       "    }\n",
       "\n",
       "    .dataframe thead th {\n",
       "        text-align: right;\n",
       "    }\n",
       "</style>\n",
       "<table border=\"1\" class=\"dataframe\">\n",
       "  <thead>\n",
       "    <tr style=\"text-align: right;\">\n",
       "      <th></th>\n",
       "      <th>T1</th>\n",
       "      <th>T2</th>\n",
       "      <th>T3</th>\n",
       "      <th>E</th>\n",
       "      <th>STD</th>\n",
       "    </tr>\n",
       "  </thead>\n",
       "  <tbody>\n",
       "    <tr>\n",
       "      <th>R2-train</th>\n",
       "      <td>0.177422</td>\n",
       "      <td>0.170949</td>\n",
       "      <td>0.162223</td>\n",
       "      <td>0.170198</td>\n",
       "      <td>0.007627</td>\n",
       "    </tr>\n",
       "    <tr>\n",
       "      <th>R2-test</th>\n",
       "      <td>0.151557</td>\n",
       "      <td>0.170501</td>\n",
       "      <td>0.183038</td>\n",
       "      <td>0.168365</td>\n",
       "      <td>0.015849</td>\n",
       "    </tr>\n",
       "    <tr>\n",
       "      <th>RMSE-train</th>\n",
       "      <td>0.944844</td>\n",
       "      <td>0.955545</td>\n",
       "      <td>0.947535</td>\n",
       "      <td>0.949308</td>\n",
       "      <td>0.005566</td>\n",
       "    </tr>\n",
       "    <tr>\n",
       "      <th>RMSE-test</th>\n",
       "      <td>0.958268</td>\n",
       "      <td>0.936703</td>\n",
       "      <td>0.952876</td>\n",
       "      <td>0.949283</td>\n",
       "      <td>0.011223</td>\n",
       "    </tr>\n",
       "  </tbody>\n",
       "</table>\n",
       "</div>"
      ],
      "text/plain": [
       "                  T1        T2        T3         E       STD\n",
       "R2-train    0.177422  0.170949  0.162223  0.170198  0.007627\n",
       "R2-test     0.151557  0.170501  0.183038  0.168365  0.015849\n",
       "RMSE-train  0.944844  0.955545  0.947535  0.949308  0.005566\n",
       "RMSE-test   0.958268  0.936703  0.952876  0.949283  0.011223"
      ]
     },
     "execution_count": 46,
     "metadata": {},
     "output_type": "execute_result"
    }
   ],
   "source": [
    "metricsNames = ['R2-train','R2-test', 'RMSE-train', 'RMSE-test']\n",
    "colNames = ['T1', 'T2', 'T3']\n",
    "#report =  pd.DataFrame([], index = metricsNames)\n",
    "report = pd.DataFrame(np.vstack([R_2_history_tr, R_2_history_ts, RMSE_history_tr, RMSE_history_ts]), index=metricsNames, \n",
    "                     columns=colNames)\n",
    "E = pd.Series(report.mean(axis=1), index = report.index)\n",
    "STD = pd.Series(report.std(axis=1), index = report.index)\n",
    "report['E'] = E\n",
    "report['STD'] = STD\n",
    "\n",
    "report"
   ]
  },
  {
   "cell_type": "markdown",
   "metadata": {},
   "source": [
    "### Кроссвалидация\n",
    "<b>Dataset:</b> Small dataset\n",
    "\n",
    "<b> С параметрами: </b> \n",
    "coeff learing rate = 0.1, n_epoch = 20, k = 2, func learing rate - \"log\", batch_size = 256"
   ]
  },
  {
   "cell_type": "code",
   "execution_count": 42,
   "metadata": {},
   "outputs": [
    {
     "name": "stdout",
     "output_type": "stream",
     "text": [
      "KFold(n_splits=3, random_state=None, shuffle=False)\n",
      "fold: 1\n",
      "fold: 2\n",
      "fold: 3\n"
     ]
    }
   ],
   "source": [
    "from sklearn.model_selection import KFold #\n",
    "kf = KFold(n_splits=3) # Define the split - into 3 folds \n",
    "kf.get_n_splits(x) # returns the number of splitting iterations in the cross-validator\n",
    "RMSE_history_tr = []\n",
    "R_2_history_tr = []\n",
    "RMSE_history_ts = []\n",
    "R_2_history_ts = []\n",
    "\n",
    "print(kf)\n",
    "counter = 0\n",
    "for train_index, test_index in kf.split(x):\n",
    "    counter += 1\n",
    "    print('fold:', counter)\n",
    "    X_train, X_test = x[train_index], x[test_index]\n",
    "    y_train, y_test = y[train_index], y[test_index]\n",
    "    \n",
    "    fm_mdl = FactorizationMachine(step=0.1, k=2)\n",
    "    fm_mdl.fit(x, y, n_epoch=20, batch_size=256)\n",
    "\n",
    "    predictions_test = fm_mdl.predict(X_train).reshape(-1)\n",
    "    RMSE_history_tr.append(RMSE(predictions_test, y_train))\n",
    "    R_2_history_tr.append(R_2(predictions_test, y_train))\n",
    "    \n",
    "    predictions_test = fm_mdl.predict(X_test).reshape(-1)\n",
    "    RMSE_history_ts.append(RMSE(predictions_test, y_test))\n",
    "    R_2_history_ts.append(R_2(predictions_test, y_test))"
   ]
  },
  {
   "cell_type": "code",
   "execution_count": 43,
   "metadata": {},
   "outputs": [
    {
     "data": {
      "text/html": [
       "<div>\n",
       "<style scoped>\n",
       "    .dataframe tbody tr th:only-of-type {\n",
       "        vertical-align: middle;\n",
       "    }\n",
       "\n",
       "    .dataframe tbody tr th {\n",
       "        vertical-align: top;\n",
       "    }\n",
       "\n",
       "    .dataframe thead th {\n",
       "        text-align: right;\n",
       "    }\n",
       "</style>\n",
       "<table border=\"1\" class=\"dataframe\">\n",
       "  <thead>\n",
       "    <tr style=\"text-align: right;\">\n",
       "      <th></th>\n",
       "      <th>T1</th>\n",
       "      <th>T2</th>\n",
       "      <th>T3</th>\n",
       "      <th>E</th>\n",
       "      <th>STD</th>\n",
       "    </tr>\n",
       "  </thead>\n",
       "  <tbody>\n",
       "    <tr>\n",
       "      <th>R2-train</th>\n",
       "      <td>0.329671</td>\n",
       "      <td>0.319887</td>\n",
       "      <td>0.314330</td>\n",
       "      <td>0.321296</td>\n",
       "      <td>0.007767</td>\n",
       "    </tr>\n",
       "    <tr>\n",
       "      <th>R2-test</th>\n",
       "      <td>0.301327</td>\n",
       "      <td>0.325146</td>\n",
       "      <td>0.333368</td>\n",
       "      <td>0.319947</td>\n",
       "      <td>0.016641</td>\n",
       "    </tr>\n",
       "    <tr>\n",
       "      <th>RMSE-train</th>\n",
       "      <td>0.852935</td>\n",
       "      <td>0.865468</td>\n",
       "      <td>0.857212</td>\n",
       "      <td>0.858538</td>\n",
       "      <td>0.006371</td>\n",
       "    </tr>\n",
       "    <tr>\n",
       "      <th>RMSE-test</th>\n",
       "      <td>0.869587</td>\n",
       "      <td>0.844887</td>\n",
       "      <td>0.860754</td>\n",
       "      <td>0.858409</td>\n",
       "      <td>0.012516</td>\n",
       "    </tr>\n",
       "  </tbody>\n",
       "</table>\n",
       "</div>"
      ],
      "text/plain": [
       "                  T1        T2        T3         E       STD\n",
       "R2-train    0.329671  0.319887  0.314330  0.321296  0.007767\n",
       "R2-test     0.301327  0.325146  0.333368  0.319947  0.016641\n",
       "RMSE-train  0.852935  0.865468  0.857212  0.858538  0.006371\n",
       "RMSE-test   0.869587  0.844887  0.860754  0.858409  0.012516"
      ]
     },
     "execution_count": 43,
     "metadata": {},
     "output_type": "execute_result"
    }
   ],
   "source": [
    "metricsNames = ['R2-train','R2-test', 'RMSE-train', 'RMSE-test']\n",
    "colNames = ['T1', 'T2', 'T3']\n",
    "#report =  pd.DataFrame([], index = metricsNames)\n",
    "report = pd.DataFrame(np.vstack([R_2_history_tr, R_2_history_ts, RMSE_history_tr, RMSE_history_ts]), index=metricsNames, \n",
    "                     columns=colNames)\n",
    "E = pd.Series(report.mean(axis=1), index = report.index)\n",
    "STD = pd.Series(report.std(axis=1), index = report.index)\n",
    "report['E'] = E\n",
    "report['STD'] = STD\n",
    "\n",
    "report"
   ]
  },
  {
   "cell_type": "markdown",
   "metadata": {},
   "source": [
    "## New: \n",
    "### Кроссвалидация\n",
    "<b>Dataset:</b> Small dataset\n",
    "\n",
    "<b> С параметрами: </b> \n",
    "coeff learing rate = 0.9, n_epoch = 80, k = 3, func learing rate - \"sqrt\", batch_size = 1024"
   ]
  },
  {
   "cell_type": "code",
   "execution_count": 142,
   "metadata": {},
   "outputs": [
    {
     "name": "stdout",
     "output_type": "stream",
     "text": [
      "KFold(n_splits=3, random_state=None, shuffle=False)\n",
      "fold: 1\n",
      "fold: 2\n",
      "fold: 3\n"
     ]
    }
   ],
   "source": [
    "from sklearn.model_selection import KFold #\n",
    "kf = KFold(n_splits=3) # Define the split - into 3 folds \n",
    "kf.get_n_splits(x) # returns the number of splitting iterations in the cross-validator\n",
    "RMSE_history_tr = []\n",
    "R_2_history_tr = []\n",
    "RMSE_history_ts = []\n",
    "R_2_history_ts = []\n",
    "\n",
    "print(kf)\n",
    "counter = 0\n",
    "for train_index, test_index in kf.split(x):\n",
    "    counter += 1\n",
    "    print('fold:', counter)\n",
    "    X_train, X_test = x[train_index], x[test_index]\n",
    "    y_train, y_test = y[train_index], y[test_index]\n",
    "    \n",
    "    fm_mdl = FactorizationMachine(step=0.9, k=3)\n",
    "    fm_mdl.fit(x, y, n_epoch=80, batch_size=1024)\n",
    "\n",
    "    predictions = fm_mdl.predict(X_train).reshape(-1)\n",
    "    RMSE_history_tr.append(RMSE(predictions, y_train))\n",
    "    R_2_history_tr.append(R_2(predictions, y_train))\n",
    "    \n",
    "    predictions = fm_mdl.predict(X_test).reshape(-1)\n",
    "    RMSE_history_ts.append(RMSE(predictions, y_test))\n",
    "    R_2_history_ts.append(R_2(predictions, y_test))"
   ]
  },
  {
   "cell_type": "code",
   "execution_count": 143,
   "metadata": {},
   "outputs": [
    {
     "data": {
      "text/html": [
       "<div>\n",
       "<style scoped>\n",
       "    .dataframe tbody tr th:only-of-type {\n",
       "        vertical-align: middle;\n",
       "    }\n",
       "\n",
       "    .dataframe tbody tr th {\n",
       "        vertical-align: top;\n",
       "    }\n",
       "\n",
       "    .dataframe thead th {\n",
       "        text-align: right;\n",
       "    }\n",
       "</style>\n",
       "<table border=\"1\" class=\"dataframe\">\n",
       "  <thead>\n",
       "    <tr style=\"text-align: right;\">\n",
       "      <th></th>\n",
       "      <th>T1</th>\n",
       "      <th>T2</th>\n",
       "      <th>T3</th>\n",
       "      <th>E</th>\n",
       "      <th>STD</th>\n",
       "    </tr>\n",
       "  </thead>\n",
       "  <tbody>\n",
       "    <tr>\n",
       "      <th>R2-train</th>\n",
       "      <td>0.327637</td>\n",
       "      <td>0.318525</td>\n",
       "      <td>0.312609</td>\n",
       "      <td>0.319590</td>\n",
       "      <td>0.007570</td>\n",
       "    </tr>\n",
       "    <tr>\n",
       "      <th>R2-test</th>\n",
       "      <td>0.299644</td>\n",
       "      <td>0.323296</td>\n",
       "      <td>0.331310</td>\n",
       "      <td>0.318083</td>\n",
       "      <td>0.016464</td>\n",
       "    </tr>\n",
       "    <tr>\n",
       "      <th>RMSE-train</th>\n",
       "      <td>0.854228</td>\n",
       "      <td>0.866334</td>\n",
       "      <td>0.858288</td>\n",
       "      <td>0.859617</td>\n",
       "      <td>0.006161</td>\n",
       "    </tr>\n",
       "    <tr>\n",
       "      <th>RMSE-test</th>\n",
       "      <td>0.870634</td>\n",
       "      <td>0.846045</td>\n",
       "      <td>0.862081</td>\n",
       "      <td>0.859586</td>\n",
       "      <td>0.012483</td>\n",
       "    </tr>\n",
       "  </tbody>\n",
       "</table>\n",
       "</div>"
      ],
      "text/plain": [
       "                  T1        T2        T3         E       STD\n",
       "R2-train    0.327637  0.318525  0.312609  0.319590  0.007570\n",
       "R2-test     0.299644  0.323296  0.331310  0.318083  0.016464\n",
       "RMSE-train  0.854228  0.866334  0.858288  0.859617  0.006161\n",
       "RMSE-test   0.870634  0.846045  0.862081  0.859586  0.012483"
      ]
     },
     "execution_count": 143,
     "metadata": {},
     "output_type": "execute_result"
    }
   ],
   "source": [
    "metricsNames = ['R2-train','R2-test', 'RMSE-train', 'RMSE-test']\n",
    "colNames = ['T1', 'T2', 'T3']\n",
    "report = pd.DataFrame(np.vstack([R_2_history_tr, R_2_history_ts, RMSE_history_tr, RMSE_history_ts]), index=metricsNames, \n",
    "                     columns=colNames)\n",
    "E = pd.Series(report.mean(axis=1), index = report.index)\n",
    "STD = pd.Series(report.std(axis=1), index = report.index)\n",
    "report['E'] = E\n",
    "report['STD'] = STD\n",
    "\n",
    "report"
   ]
  },
  {
   "cell_type": "markdown",
   "metadata": {},
   "source": [
    "## Тестирование на полном датасете"
   ]
  },
  {
   "cell_type": "markdown",
   "metadata": {},
   "source": [
    "### Подготовка small dataset"
   ]
  },
  {
   "cell_type": "code",
   "execution_count": 47,
   "metadata": {},
   "outputs": [],
   "source": [
    "df = pd.read_csv('dataset-netflixSorted.csv')\n"
   ]
  },
  {
   "cell_type": "code",
   "execution_count": 48,
   "metadata": {},
   "outputs": [],
   "source": [
    "df = df[['User', 'Movie', 'Rate']]"
   ]
  },
  {
   "cell_type": "code",
   "execution_count": 49,
   "metadata": {},
   "outputs": [
    {
     "data": {
      "text/html": [
       "<div>\n",
       "<style scoped>\n",
       "    .dataframe tbody tr th:only-of-type {\n",
       "        vertical-align: middle;\n",
       "    }\n",
       "\n",
       "    .dataframe tbody tr th {\n",
       "        vertical-align: top;\n",
       "    }\n",
       "\n",
       "    .dataframe thead th {\n",
       "        text-align: right;\n",
       "    }\n",
       "</style>\n",
       "<table border=\"1\" class=\"dataframe\">\n",
       "  <thead>\n",
       "    <tr style=\"text-align: right;\">\n",
       "      <th></th>\n",
       "      <th>User</th>\n",
       "      <th>Movie</th>\n",
       "      <th>Rate</th>\n",
       "    </tr>\n",
       "  </thead>\n",
       "  <tbody>\n",
       "    <tr>\n",
       "      <th>0</th>\n",
       "      <td>510180</td>\n",
       "      <td>1367</td>\n",
       "      <td>5</td>\n",
       "    </tr>\n",
       "    <tr>\n",
       "      <th>1</th>\n",
       "      <td>510180</td>\n",
       "      <td>1798</td>\n",
       "      <td>5</td>\n",
       "    </tr>\n",
       "    <tr>\n",
       "      <th>2</th>\n",
       "      <td>510180</td>\n",
       "      <td>2866</td>\n",
       "      <td>3</td>\n",
       "    </tr>\n",
       "    <tr>\n",
       "      <th>3</th>\n",
       "      <td>510180</td>\n",
       "      <td>3730</td>\n",
       "      <td>4</td>\n",
       "    </tr>\n",
       "    <tr>\n",
       "      <th>4</th>\n",
       "      <td>510180</td>\n",
       "      <td>3870</td>\n",
       "      <td>2</td>\n",
       "    </tr>\n",
       "    <tr>\n",
       "      <th>5</th>\n",
       "      <td>1086</td>\n",
       "      <td>295</td>\n",
       "      <td>4</td>\n",
       "    </tr>\n",
       "    <tr>\n",
       "      <th>6</th>\n",
       "      <td>1086</td>\n",
       "      <td>682</td>\n",
       "      <td>4</td>\n",
       "    </tr>\n",
       "    <tr>\n",
       "      <th>7</th>\n",
       "      <td>1086</td>\n",
       "      <td>829</td>\n",
       "      <td>3</td>\n",
       "    </tr>\n",
       "    <tr>\n",
       "      <th>8</th>\n",
       "      <td>1086</td>\n",
       "      <td>1700</td>\n",
       "      <td>3</td>\n",
       "    </tr>\n",
       "    <tr>\n",
       "      <th>9</th>\n",
       "      <td>122223</td>\n",
       "      <td>607</td>\n",
       "      <td>4</td>\n",
       "    </tr>\n",
       "  </tbody>\n",
       "</table>\n",
       "</div>"
      ],
      "text/plain": [
       "     User  Movie  Rate\n",
       "0  510180   1367     5\n",
       "1  510180   1798     5\n",
       "2  510180   2866     3\n",
       "3  510180   3730     4\n",
       "4  510180   3870     2\n",
       "5    1086    295     4\n",
       "6    1086    682     4\n",
       "7    1086    829     3\n",
       "8    1086   1700     3\n",
       "9  122223    607     4"
      ]
     },
     "execution_count": 49,
     "metadata": {},
     "output_type": "execute_result"
    }
   ],
   "source": [
    "df[:10]"
   ]
  },
  {
   "cell_type": "code",
   "execution_count": 50,
   "metadata": {},
   "outputs": [
    {
     "data": {
      "text/plain": [
       "['netflix_y.bin']"
      ]
     },
     "execution_count": 50,
     "metadata": {},
     "output_type": "execute_result"
    }
   ],
   "source": [
    "target = df['Rate'].values\n",
    "target\n",
    "joblib.dump(target, 'netflix_y.bin')"
   ]
  },
  {
   "cell_type": "code",
   "execution_count": 51,
   "metadata": {},
   "outputs": [
    {
     "data": {
      "text/plain": [
       "['netflix_denseX.bin']"
      ]
     },
     "execution_count": 51,
     "metadata": {},
     "output_type": "execute_result"
    }
   ],
   "source": [
    "feats = df[['User', 'Movie']].values\n",
    "feats\n",
    "joblib.dump(feats, 'netflix_denseX.bin')"
   ]
  },
  {
   "cell_type": "code",
   "execution_count": 52,
   "metadata": {},
   "outputs": [
    {
     "name": "stderr",
     "output_type": "stream",
     "text": [
      "/usr/local/lib/python3.6/dist-packages/sklearn/preprocessing/_encoders.py:368: FutureWarning: The handling of integer data will change in version 0.22. Currently, the categories are determined based on the range [0, max(values)], while in the future they will be determined based on the unique values.\n",
      "If you want the future behaviour and silence this warning, you can specify \"categories='auto'\".\n",
      "In case you used a LabelEncoder before this OneHotEncoder to convert the categories to integers, then you can now use the OneHotEncoder directly.\n",
      "  warnings.warn(msg, FutureWarning)\n"
     ]
    },
    {
     "name": "stdout",
     "output_type": "stream",
     "text": [
      "(24053764, 475257)\n"
     ]
    },
    {
     "data": {
      "text/plain": [
       "['netflix_sparseX.bin']"
      ]
     },
     "execution_count": 52,
     "metadata": {},
     "output_type": "execute_result"
    }
   ],
   "source": [
    "onehot_encoder = OneHotEncoder(sparse=True)\n",
    "F = onehot_encoder.fit_transform(feats)\n",
    "print(F.shape)\n",
    "joblib.dump(F, 'netflix_sparseX.bin')"
   ]
  },
  {
   "cell_type": "markdown",
   "metadata": {},
   "source": [
    "### Загрузка датасета Full Netflix"
   ]
  },
  {
   "cell_type": "code",
   "execution_count": 4,
   "metadata": {},
   "outputs": [
    {
     "name": "stdout",
     "output_type": "stream",
     "text": [
      "Feats <class 'scipy.sparse.csr.csr_matrix'> (24053764, 475257) targets <class 'numpy.ndarray'> (24053764,)\n"
     ]
    }
   ],
   "source": [
    "F = joblib.load('netflix_sparseX.bin')\n",
    "target = joblib.load('netflix_y.bin')\n",
    "print('Feats', type(F), F.shape, 'targets', type(target), target.shape)"
   ]
  },
  {
   "cell_type": "markdown",
   "metadata": {},
   "source": [
    "### Обучение с целью подборки параметров обучения"
   ]
  },
  {
   "cell_type": "markdown",
   "metadata": {},
   "source": [
    "<b>Parameters:</b> coeff learing rate = 0.1, dims factors - k = 2, batch_size = 256, func learning rate - \"log\""
   ]
  },
  {
   "cell_type": "code",
   "execution_count": 64,
   "metadata": {},
   "outputs": [
    {
     "name": "stdout",
     "output_type": "stream",
     "text": [
      "run time: m 15.48952515522639\n",
      "loss_histoy 1 [1.5324512690356045]\n"
     ]
    }
   ],
   "source": [
    "fm_model = FactorizationMachine(step=0.1, k=2)\n",
    "t_start = time.time()\n",
    "loss_history = fm_model.fit(F, target, n_epoch=1, batch_size=256)\n",
    "t_run = time.time() - t_start \n",
    "print('run time: m', t_run / 60)\n",
    "print('loss_histoy', len(loss_history), loss_history)\n"
   ]
  },
  {
   "cell_type": "code",
   "execution_count": 69,
   "metadata": {},
   "outputs": [
    {
     "data": {
      "text/plain": [
       "(24053764,)"
      ]
     },
     "execution_count": 69,
     "metadata": {},
     "output_type": "execute_result"
    }
   ],
   "source": [
    "predictions = fm_model.predict(F).reshape(-1)\n",
    "predictions.shape\n"
   ]
  },
  {
   "cell_type": "code",
   "execution_count": 70,
   "metadata": {},
   "outputs": [
    {
     "data": {
      "text/plain": [
       "1.0074915491681806"
      ]
     },
     "execution_count": 70,
     "metadata": {},
     "output_type": "execute_result"
    }
   ],
   "source": [
    "rmse = RMSE(predictions, target)\n",
    "rms"
   ]
  },
  {
   "cell_type": "markdown",
   "metadata": {},
   "source": [
    "## New:\n",
    "<b>Parameters:</b> coeff learing rate = 0.9, dims factors - k = 3, batch_size = 1024, func learning rate - \"sqrt\""
   ]
  },
  {
   "cell_type": "code",
   "execution_count": 145,
   "metadata": {},
   "outputs": [
    {
     "name": "stdout",
     "output_type": "stream",
     "text": [
      "run time: m 25.97569557825724\n",
      "loss_histoy 5 [0.4459035271345388, 1.0278057483100784, 1.204134754594045, 0.5452592278819187, 1.1041529634864515]\n"
     ]
    }
   ],
   "source": [
    "fm_model = FactorizationMachine(step=0.9, k=3)\n",
    "t_start = time.time()\n",
    "loss_history = fm_model.fit(F, target, n_epoch=5, batch_size=1024)\n",
    "t_run = time.time() - t_start \n",
    "print('run time: m', t_run / 60)\n",
    "print('loss_histoy', len(loss_history), loss_history)"
   ]
  },
  {
   "cell_type": "code",
   "execution_count": 147,
   "metadata": {},
   "outputs": [
    {
     "data": {
      "text/plain": [
       "(24053764,)"
      ]
     },
     "execution_count": 147,
     "metadata": {},
     "output_type": "execute_result"
    }
   ],
   "source": [
    "predictions = fm_model.predict(F).reshape(-1)\n",
    "predictions.shape"
   ]
  },
  {
   "cell_type": "code",
   "execution_count": 148,
   "metadata": {},
   "outputs": [
    {
     "data": {
      "text/plain": [
       "0.21294889469047595"
      ]
     },
     "execution_count": 148,
     "metadata": {},
     "output_type": "execute_result"
    }
   ],
   "source": [
    "r2 = R_2(predictions, target)\n",
    "r2"
   ]
  },
  {
   "cell_type": "code",
   "execution_count": 149,
   "metadata": {},
   "outputs": [
    {
     "data": {
      "text/plain": [
       "0.9635595228463429"
      ]
     },
     "execution_count": 149,
     "metadata": {},
     "output_type": "execute_result"
    }
   ],
   "source": [
    "rmse = RMSE(predictions, target)\n",
    "rmse"
   ]
  },
  {
   "cell_type": "code",
   "execution_count": 153,
   "metadata": {},
   "outputs": [
    {
     "name": "stdout",
     "output_type": "stream",
     "text": [
      "run time: m 35.608677037556966\n",
      "loss_histoy 7 [0.6459725238652039, 0.6041741031190966, 0.8811284125199534, 1.9437431604974107, 0.7641688506818161, 0.9228448986100676, 1.5332854709011514]\n"
     ]
    }
   ],
   "source": [
    "fm_model = FactorizationMachine(step=0.9, k=3)\n",
    "t_start = time.time()\n",
    "loss_history = fm_model.fit(F, target, n_epoch=7, batch_size=1024)\n",
    "t_run = time.time() - t_start \n",
    "print('run time: m', t_run / 60)\n",
    "print('loss_histoy', len(loss_history), loss_history)"
   ]
  },
  {
   "cell_type": "code",
   "execution_count": 154,
   "metadata": {},
   "outputs": [
    {
     "data": {
      "text/plain": [
       "(24053764,)"
      ]
     },
     "execution_count": 154,
     "metadata": {},
     "output_type": "execute_result"
    }
   ],
   "source": [
    "predictions = fm_model.predict(F).reshape(-1)\n",
    "predictions.shape"
   ]
  },
  {
   "cell_type": "code",
   "execution_count": 155,
   "metadata": {},
   "outputs": [
    {
     "data": {
      "text/plain": [
       "0.18289598330597046"
      ]
     },
     "execution_count": 155,
     "metadata": {},
     "output_type": "execute_result"
    }
   ],
   "source": [
    "r2 = R_2(predictions, target)\n",
    "r2"
   ]
  },
  {
   "cell_type": "code",
   "execution_count": 156,
   "metadata": {},
   "outputs": [
    {
     "data": {
      "text/plain": [
       "0.9817835565158282"
      ]
     },
     "execution_count": 156,
     "metadata": {},
     "output_type": "execute_result"
    }
   ],
   "source": [
    "rmse = RMSE(predictions, target)\n",
    "rmse"
   ]
  },
  {
   "cell_type": "code",
   "execution_count": 158,
   "metadata": {},
   "outputs": [
    {
     "name": "stdout",
     "output_type": "stream",
     "text": [
      "run time: m 25.60951056877772\n",
      "loss_histoy 5 [0.903924584356503, 0.7947459110598262, 0.7255890082089634, 0.8367849686433111, 1.2226057104974188]\n"
     ]
    }
   ],
   "source": [
    "fm_model = FactorizationMachine(step=0.9, k=3)\n",
    "t_start = time.time()\n",
    "loss_history = fm_model.fit(F, target, n_epoch=5, batch_size=1024)\n",
    "t_run = time.time() - t_start \n",
    "print('run time: m', t_run / 60)\n",
    "print('loss_histoy', len(loss_history), loss_history)"
   ]
  },
  {
   "cell_type": "code",
   "execution_count": 159,
   "metadata": {},
   "outputs": [
    {
     "data": {
      "text/plain": [
       "(24053764,)"
      ]
     },
     "execution_count": 159,
     "metadata": {},
     "output_type": "execute_result"
    }
   ],
   "source": [
    "predictions = fm_model.predict(F).reshape(-1)\n",
    "predictions.shape"
   ]
  },
  {
   "cell_type": "code",
   "execution_count": 160,
   "metadata": {},
   "outputs": [
    {
     "data": {
      "text/plain": [
       "0.09959997713551894"
      ]
     },
     "execution_count": 160,
     "metadata": {},
     "output_type": "execute_result"
    }
   ],
   "source": [
    "r2 = R_2(predictions, target)\n",
    "r2"
   ]
  },
  {
   "cell_type": "code",
   "execution_count": 161,
   "metadata": {},
   "outputs": [
    {
     "data": {
      "text/plain": [
       "1.030611134058499"
      ]
     },
     "execution_count": 161,
     "metadata": {},
     "output_type": "execute_result"
    }
   ],
   "source": [
    "rmse = RMSE(predictions, target)\n",
    "rmse"
   ]
  },
  {
   "cell_type": "markdown",
   "metadata": {},
   "source": [
    "### Кроссвалидация \n",
    "<b>Dataset:</b> Full Netflix \n",
    "\n",
    "<b>Parameters:</b> coeff learing rate = 0.1, dims factors - k = 2, func learning rate - \"log\", batch_size = 256"
   ]
  },
  {
   "cell_type": "code",
   "execution_count": 88,
   "metadata": {},
   "outputs": [
    {
     "name": "stdout",
     "output_type": "stream",
     "text": [
      "KFold(n_splits=3, random_state=None, shuffle=False)\n",
      "fold: 1\n",
      "fold: 2\n",
      "fold: 3\n"
     ]
    }
   ],
   "source": [
    "from sklearn.model_selection import KFold #\n",
    "kf = KFold(n_splits=3) # Define the split - into 3 folds \n",
    "kf.get_n_splits(F) # returns the number of splitting iterations in the cross-validator\n",
    "RMSE_history_tr = []\n",
    "RMSE_history_ts = []\n",
    "\n",
    "print(kf)\n",
    "counter = 0\n",
    "for train_index, test_index in kf.split(F):\n",
    "    counter += 1\n",
    "    print('fold:', counter)\n",
    "    X_train, X_test = F[train_index], F[test_index]\n",
    "    y_train, y_test = target[train_index], target[test_index]\n",
    "    \n",
    "    fm_mdl = FactorizationMachine(step=0.1, k=2)\n",
    "    fm_mdl.fit(X_train, y_train, n_epoch=1, batch_size=256)\n",
    "\n",
    "    predictions = fm_mdl.predict(X_train).reshape(-1)\n",
    "    RMSE_history_tr.append(RMSE(predictions, y_train))\n",
    "    \n",
    "    predictions = fm_mdl.predict(X_test).reshape(-1)\n",
    "    RMSE_history_ts.append(RMSE(predictions, y_test))"
   ]
  },
  {
   "cell_type": "code",
   "execution_count": 89,
   "metadata": {
    "scrolled": true
   },
   "outputs": [
    {
     "data": {
      "text/html": [
       "<div>\n",
       "<style scoped>\n",
       "    .dataframe tbody tr th:only-of-type {\n",
       "        vertical-align: middle;\n",
       "    }\n",
       "\n",
       "    .dataframe tbody tr th {\n",
       "        vertical-align: top;\n",
       "    }\n",
       "\n",
       "    .dataframe thead th {\n",
       "        text-align: right;\n",
       "    }\n",
       "</style>\n",
       "<table border=\"1\" class=\"dataframe\">\n",
       "  <thead>\n",
       "    <tr style=\"text-align: right;\">\n",
       "      <th></th>\n",
       "      <th>T1</th>\n",
       "      <th>T2</th>\n",
       "      <th>T3</th>\n",
       "      <th>E</th>\n",
       "      <th>STD</th>\n",
       "    </tr>\n",
       "  </thead>\n",
       "  <tbody>\n",
       "    <tr>\n",
       "      <th>RMSE-train</th>\n",
       "      <td>0.997153</td>\n",
       "      <td>1.000739</td>\n",
       "      <td>0.977809</td>\n",
       "      <td>0.991900</td>\n",
       "      <td>0.012334</td>\n",
       "    </tr>\n",
       "    <tr>\n",
       "      <th>RMSE-test</th>\n",
       "      <td>1.070398</td>\n",
       "      <td>0.989470</td>\n",
       "      <td>1.036188</td>\n",
       "      <td>1.032018</td>\n",
       "      <td>0.040625</td>\n",
       "    </tr>\n",
       "  </tbody>\n",
       "</table>\n",
       "</div>"
      ],
      "text/plain": [
       "                  T1        T2        T3         E       STD\n",
       "RMSE-train  0.997153  1.000739  0.977809  0.991900  0.012334\n",
       "RMSE-test   1.070398  0.989470  1.036188  1.032018  0.040625"
      ]
     },
     "execution_count": 89,
     "metadata": {},
     "output_type": "execute_result"
    }
   ],
   "source": [
    "metricsNames = ['RMSE-train', 'RMSE-test']\n",
    "colNames = ['T1', 'T2', 'T3']\n",
    "report = pd.DataFrame(np.vstack([RMSE_history_tr, RMSE_history_ts]), index=metricsNames, \n",
    "                     columns=colNames)\n",
    "E = pd.Series(report.mean(axis=1), index = report.index)\n",
    "STD = pd.Series(report.std(axis=1), index = report.index)\n",
    "report['E'] = E\n",
    "report['STD'] = STD\n",
    "\n",
    "report"
   ]
  },
  {
   "cell_type": "markdown",
   "metadata": {},
   "source": [
    "## New:\n",
    "### Кроссвалидация \n",
    "<b>Dataset:</b> Full Netflix \n",
    "\n",
    "<b>Parameters:</b> coeff learing rate = 0.9, dims factors - k = 3, func learning rate - \"sqrt\", batch_size = 1024 "
   ]
  },
  {
   "cell_type": "code",
   "execution_count": 151,
   "metadata": {},
   "outputs": [
    {
     "name": "stdout",
     "output_type": "stream",
     "text": [
      "KFold(n_splits=3, random_state=None, shuffle=False)\n",
      "fold: 1\n",
      "fold: 2\n",
      "fold: 3\n"
     ]
    }
   ],
   "source": [
    "from sklearn.model_selection import KFold #\n",
    "kf = KFold(n_splits=3) # Define the split - into 3 folds \n",
    "kf.get_n_splits(F) # returns the number of splitting iterations in the cross-validator\n",
    "RMSE_history_tr = []\n",
    "R_2_history_tr = []\n",
    "RMSE_history_ts = []\n",
    "R_2_history_ts = []\n",
    "\n",
    "print(kf)\n",
    "counter = 0\n",
    "for train_index, test_index in kf.split(F):\n",
    "    counter += 1\n",
    "    print('fold:', counter)\n",
    "    X_train, X_test = F[train_index], F[test_index]\n",
    "    y_train, y_test = target[train_index], target[test_index]\n",
    "    \n",
    "    fm_mdl = FactorizationMachine(step=0.9, k=3)\n",
    "    fm_mdl.fit(X_train, y_train, n_epoch=7, batch_size=1024)\n",
    "\n",
    "    predictions = fm_mdl.predict(X_train).reshape(-1)\n",
    "    RMSE_history_tr.append(RMSE(predictions, y_train))\n",
    "    R_2_history_tr.append(R_2(predictions, y_train))\n",
    "    \n",
    "    predictions = fm_mdl.predict(X_test).reshape(-1)\n",
    "    RMSE_history_ts.append(RMSE(predictions, y_test))\n",
    "    R_2_history_ts.append(R_2(predictions, y_test))"
   ]
  },
  {
   "cell_type": "code",
   "execution_count": 152,
   "metadata": {
    "scrolled": true
   },
   "outputs": [
    {
     "data": {
      "text/html": [
       "<div>\n",
       "<style scoped>\n",
       "    .dataframe tbody tr th:only-of-type {\n",
       "        vertical-align: middle;\n",
       "    }\n",
       "\n",
       "    .dataframe tbody tr th {\n",
       "        vertical-align: top;\n",
       "    }\n",
       "\n",
       "    .dataframe thead th {\n",
       "        text-align: right;\n",
       "    }\n",
       "</style>\n",
       "<table border=\"1\" class=\"dataframe\">\n",
       "  <thead>\n",
       "    <tr style=\"text-align: right;\">\n",
       "      <th></th>\n",
       "      <th>T1</th>\n",
       "      <th>T2</th>\n",
       "      <th>T3</th>\n",
       "      <th>E</th>\n",
       "      <th>STD</th>\n",
       "    </tr>\n",
       "  </thead>\n",
       "  <tbody>\n",
       "    <tr>\n",
       "      <th>R2-train</th>\n",
       "      <td>-0.077084</td>\n",
       "      <td>0.234834</td>\n",
       "      <td>0.249195</td>\n",
       "      <td>0.135648</td>\n",
       "      <td>0.184371</td>\n",
       "    </tr>\n",
       "    <tr>\n",
       "      <th>R2-test</th>\n",
       "      <td>0.022666</td>\n",
       "      <td>0.150605</td>\n",
       "      <td>0.097379</td>\n",
       "      <td>0.090217</td>\n",
       "      <td>0.064270</td>\n",
       "    </tr>\n",
       "    <tr>\n",
       "      <th>RMSE-train</th>\n",
       "      <td>1.107705</td>\n",
       "      <td>0.963869</td>\n",
       "      <td>0.940394</td>\n",
       "      <td>1.003989</td>\n",
       "      <td>0.090584</td>\n",
       "    </tr>\n",
       "    <tr>\n",
       "      <th>RMSE-test</th>\n",
       "      <td>1.096353</td>\n",
       "      <td>0.968829</td>\n",
       "      <td>1.029015</td>\n",
       "      <td>1.031399</td>\n",
       "      <td>0.063796</td>\n",
       "    </tr>\n",
       "  </tbody>\n",
       "</table>\n",
       "</div>"
      ],
      "text/plain": [
       "                  T1        T2        T3         E       STD\n",
       "R2-train   -0.077084  0.234834  0.249195  0.135648  0.184371\n",
       "R2-test     0.022666  0.150605  0.097379  0.090217  0.064270\n",
       "RMSE-train  1.107705  0.963869  0.940394  1.003989  0.090584\n",
       "RMSE-test   1.096353  0.968829  1.029015  1.031399  0.063796"
      ]
     },
     "execution_count": 152,
     "metadata": {},
     "output_type": "execute_result"
    }
   ],
   "source": [
    "metricsNames = ['R2-train','R2-test', 'RMSE-train', 'RMSE-test']\n",
    "colNames = ['T1', 'T2', 'T3']\n",
    "report = pd.DataFrame(np.vstack([R_2_history_tr, R_2_history_ts, RMSE_history_tr, RMSE_history_ts]), index=metricsNames, \n",
    "                     columns=colNames)\n",
    "E = pd.Series(report.mean(axis=1), index = report.index)\n",
    "STD = pd.Series(report.std(axis=1), index = report.index)\n",
    "report['E'] = E\n",
    "report['STD'] = STD\n",
    "\n",
    "report"
   ]
  },
  {
   "cell_type": "markdown",
   "metadata": {},
   "source": [
    "## NEW:\n",
    "\n",
    "<b>Dataset:</b> Full Netflix \n",
    "\n",
    "<b>Parameters:</b> coeff learing rate = 0.9, dims factors - k = 3, func learning rate - \"sqrt\", batch_size = 1024 "
   ]
  },
  {
   "cell_type": "code",
   "execution_count": 5,
   "metadata": {},
   "outputs": [
    {
     "name": "stdout",
     "output_type": "stream",
     "text": [
      "KFold(n_splits=3, random_state=None, shuffle=False)\n",
      "fold: 1\n",
      "fold: 2\n",
      "fold: 3\n"
     ]
    }
   ],
   "source": [
    "from sklearn.model_selection import KFold #\n",
    "kf = KFold(n_splits=3) # Define the split - into 3 folds \n",
    "kf.get_n_splits(F) # returns the number of splitting iterations in the cross-validator\n",
    "RMSE_history_tr = []\n",
    "R_2_history_tr = []\n",
    "RMSE_history_ts = []\n",
    "R_2_history_ts = []\n",
    "\n",
    "print(kf)\n",
    "counter = 0\n",
    "for train_index, test_index in kf.split(F):\n",
    "    counter += 1\n",
    "    print('fold:', counter)\n",
    "    X_train, X_test = F[train_index], F[test_index]\n",
    "    y_train, y_test = target[train_index], target[test_index]\n",
    "    \n",
    "    fm_mdl = FactorizationMachine(step=0.9, k=3)\n",
    "    fm_mdl.fit(X_train, y_train, n_epoch=5, batch_size=1024)\n",
    "\n",
    "    predictions = fm_mdl.predict(X_train).reshape(-1)\n",
    "    RMSE_history_tr.append(RMSE(predictions, y_train))\n",
    "    R_2_history_tr.append(R_2(predictions, y_train))\n",
    "    \n",
    "    predictions = fm_mdl.predict(X_test).reshape(-1)\n",
    "    RMSE_history_ts.append(RMSE(predictions, y_test))\n",
    "    R_2_history_ts.append(R_2(predictions, y_test))"
   ]
  },
  {
   "cell_type": "code",
   "execution_count": 8,
   "metadata": {},
   "outputs": [
    {
     "data": {
      "text/html": [
       "<div>\n",
       "<style scoped>\n",
       "    .dataframe tbody tr th:only-of-type {\n",
       "        vertical-align: middle;\n",
       "    }\n",
       "\n",
       "    .dataframe tbody tr th {\n",
       "        vertical-align: top;\n",
       "    }\n",
       "\n",
       "    .dataframe thead th {\n",
       "        text-align: right;\n",
       "    }\n",
       "</style>\n",
       "<table border=\"1\" class=\"dataframe\">\n",
       "  <thead>\n",
       "    <tr style=\"text-align: right;\">\n",
       "      <th></th>\n",
       "      <th>T1</th>\n",
       "      <th>T2</th>\n",
       "      <th>T3</th>\n",
       "      <th>E</th>\n",
       "      <th>STD</th>\n",
       "    </tr>\n",
       "  </thead>\n",
       "  <tbody>\n",
       "    <tr>\n",
       "      <th>R2-train</th>\n",
       "      <td>0.190290</td>\n",
       "      <td>0.233542</td>\n",
       "      <td>0.236887</td>\n",
       "      <td>0.220240</td>\n",
       "      <td>0.025991</td>\n",
       "    </tr>\n",
       "    <tr>\n",
       "      <th>R2-test</th>\n",
       "      <td>0.121940</td>\n",
       "      <td>0.160876</td>\n",
       "      <td>0.088738</td>\n",
       "      <td>0.123851</td>\n",
       "      <td>0.036107</td>\n",
       "    </tr>\n",
       "    <tr>\n",
       "      <th>RMSE-train</th>\n",
       "      <td>0.960427</td>\n",
       "      <td>0.964683</td>\n",
       "      <td>0.948070</td>\n",
       "      <td>0.957727</td>\n",
       "      <td>0.008629</td>\n",
       "    </tr>\n",
       "    <tr>\n",
       "      <th>RMSE-test</th>\n",
       "      <td>1.039181</td>\n",
       "      <td>0.962953</td>\n",
       "      <td>1.033929</td>\n",
       "      <td>1.012021</td>\n",
       "      <td>0.042575</td>\n",
       "    </tr>\n",
       "  </tbody>\n",
       "</table>\n",
       "</div>"
      ],
      "text/plain": [
       "                  T1        T2        T3         E       STD\n",
       "R2-train    0.190290  0.233542  0.236887  0.220240  0.025991\n",
       "R2-test     0.121940  0.160876  0.088738  0.123851  0.036107\n",
       "RMSE-train  0.960427  0.964683  0.948070  0.957727  0.008629\n",
       "RMSE-test   1.039181  0.962953  1.033929  1.012021  0.042575"
      ]
     },
     "execution_count": 8,
     "metadata": {},
     "output_type": "execute_result"
    }
   ],
   "source": [
    "metricsNames = ['R2-train','R2-test', 'RMSE-train', 'RMSE-test']\n",
    "colNames = ['T1', 'T2', 'T3']\n",
    "report = pd.DataFrame(np.vstack([R_2_history_tr, R_2_history_ts, RMSE_history_tr, RMSE_history_ts]), index=metricsNames, \n",
    "                     columns=colNames)\n",
    "E = pd.Series(report.mean(axis=1), index = report.index)\n",
    "STD = pd.Series(report.std(axis=1), index = report.index)\n",
    "report['E'] = E\n",
    "report['STD'] = STD\n",
    "\n",
    "report"
   ]
  }
 ],
 "metadata": {
  "kernelspec": {
   "display_name": "Python 3",
   "language": "python",
   "name": "python3"
  },
  "language_info": {
   "codemirror_mode": {
    "name": "ipython",
    "version": 3
   },
   "file_extension": ".py",
   "mimetype": "text/x-python",
   "name": "python",
   "nbconvert_exporter": "python",
   "pygments_lexer": "ipython3",
   "version": "3.6.7"
  }
 },
 "nbformat": 4,
 "nbformat_minor": 2
}
